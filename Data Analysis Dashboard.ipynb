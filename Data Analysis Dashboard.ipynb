{
 "cells": [
  {
   "cell_type": "code",
   "execution_count": 1,
   "id": "initial_id",
   "metadata": {
    "collapsed": true,
    "ExecuteTime": {
     "end_time": "2024-04-30T18:31:46.116376700Z",
     "start_time": "2024-04-30T18:31:45.124484700Z"
    }
   },
   "outputs": [],
   "source": [
    "import DashboardBackend\n",
    "# Todo add KNR and RF cells\n",
    "# Todo tune parameters to improve prediction\n",
    "# Todo add pydocs for DashboardBackend and Utilities functions\n"
   ]
  },
  {
   "cell_type": "code",
   "execution_count": 2,
   "outputs": [
    {
     "name": "stdout",
     "output_type": "stream",
     "text": [
      "Training error: 605.779547743285\n",
      "Test error: 608.2244122310211\n"
     ]
    },
    {
     "name": "stderr",
     "output_type": "stream",
     "text": [
      "C:\\Users\\aljo9\\PycharmProjects\\CustomerSales\\DashboardBackend.py:75: FutureWarning: Downcasting behavior in `replace` is deprecated and will be removed in a future version. To retain the old behavior, explicitly call `result.infer_objects(copy=False)`. To opt-in to the future behavior, set `pd.set_option('future.no_silent_downcasting', True)`\n",
      "  df['gender'] = df['gender'].replace({'Male': 0, 'Female': 1})\n"
     ]
    }
   ],
   "source": [
    "DashboardBackend.LR(1000)"
   ],
   "metadata": {
    "collapsed": false,
    "ExecuteTime": {
     "end_time": "2024-04-30T18:31:46.244170400Z",
     "start_time": "2024-04-30T18:31:46.117376500Z"
    }
   },
   "id": "4557b4a27694389f"
  },
  {
   "cell_type": "code",
   "execution_count": 3,
   "outputs": [
    {
     "name": "stdout",
     "output_type": "stream",
     "text": [
      "Training error: 569.5810857142857\n",
      "Test error: 609.3453\n"
     ]
    },
    {
     "name": "stderr",
     "output_type": "stream",
     "text": [
      "C:\\Users\\aljo9\\PycharmProjects\\CustomerSales\\DashboardBackend.py:75: FutureWarning: Downcasting behavior in `replace` is deprecated and will be removed in a future version. To retain the old behavior, explicitly call `result.infer_objects(copy=False)`. To opt-in to the future behavior, set `pd.set_option('future.no_silent_downcasting', True)`\n",
      "  df['gender'] = df['gender'].replace({'Male': 0, 'Female': 1})\n"
     ]
    }
   ],
   "source": [
    "DashboardBackend.KNR(1000)"
   ],
   "metadata": {
    "collapsed": false,
    "ExecuteTime": {
     "end_time": "2024-04-30T18:31:46.371805200Z",
     "start_time": "2024-04-30T18:31:46.248176300Z"
    }
   },
   "id": "683cd9c0ad67d871"
  }
 ],
 "metadata": {
  "kernelspec": {
   "display_name": "Python 3",
   "language": "python",
   "name": "python3"
  },
  "language_info": {
   "codemirror_mode": {
    "name": "ipython",
    "version": 2
   },
   "file_extension": ".py",
   "mimetype": "text/x-python",
   "name": "python",
   "nbconvert_exporter": "python",
   "pygments_lexer": "ipython2",
   "version": "2.7.6"
  }
 },
 "nbformat": 4,
 "nbformat_minor": 5
}
